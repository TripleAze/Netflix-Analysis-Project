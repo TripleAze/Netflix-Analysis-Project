{
 "cells": [
  {
   "cell_type": "code",
   "execution_count": null,
   "metadata": {},
   "outputs": [],
   "source": [
    "\n",
    "import pandas as pd\n",
    "import matplotlib.pyplot as plt\n",
    "import seaborn as sns"
   ]
  },
  {
   "cell_type": "markdown",
   "metadata": {},
   "source": [
    "Netflix Data Analysis\n",
    "\n",
    "This project explores trends and insights within Netflix's dataset to identify patterns, top contributors, and key content strategies. It leverages Python for data manipulation and visualization, providing actionable recommendations.\n",
    "\n"
   ]
  },
  {
   "cell_type": "markdown",
   "metadata": {},
   "source": [
    "Project Objectives\n",
    "\n",
    "Analyze release patterns to uncover yearly and monthly trends.\n",
    "Identify top contributors such as directors and cast members.\n",
    "Understand genre distributions and their correlation with countries.\n",
    "Explore ratings and their relationship with genres."
   ]
  },
  {
   "cell_type": "markdown",
   "metadata": {},
   "source": [
    "Tools and Libraries Used\n",
    "\n",
    "Python: Primary programming language.\n",
    "Pandas: Data manipulation and cleaning.\n",
    "Matplotlib and Seaborn: Visualization.\n"
   ]
  },
  {
   "cell_type": "markdown",
   "metadata": {},
   "source": [
    "Steps and Code\n",
    "\n",
    "1. Dataset Overview\n",
    "\n",
    "    We load the Netflix dataset and inspect it for structure, missing values, and duplicates."
   ]
  },
  {
   "cell_type": "code",
   "execution_count": null,
   "metadata": {},
   "outputs": [],
   "source": [
    "\n",
    "df = pd.read_csv('netflix_titles.csv', encoding='ISO-8859-1')"
   ]
  },
  {
   "cell_type": "code",
   "execution_count": null,
   "metadata": {},
   "outputs": [],
   "source": [
    "\n",
    "df.info()  \n",
    "df.isnull().sum() \n",
    "#df.dropna(inplace=True) \n",
    "df.drop_duplicates(inplace=True) "
   ]
  },
  {
   "cell_type": "markdown",
   "metadata": {},
   "source": [
    "2. Data Cleaning\n",
    "\n",
    "    Columns irrelevant to the analysis are dropped, and key fields are cleaned for consistency.\n",
    "\n",
    "Removing Unwanted Ratings\n",
    "\n",
    "Certain values in the \"rating\" column, such as runtime durations (\"66 min\", \"74 min\", \"84 min\") and other non-standard ratings like \"NR\" (Not Rated) and \"UR\" (Unrated), were deemed irrelevant for analysis. These entries were removed to maintain the quality and relevance of the dataset."
   ]
  },
  {
   "cell_type": "code",
   "execution_count": null,
   "metadata": {},
   "outputs": [],
   "source": [
    "\n",
    "columns_to_drop = ['Unnamed: 12', 'Unnamed: 13', 'Unnamed: 14', 'Unnamed: 15', 'Unnamed: 16', \n",
    "                   'Unnamed: 17', 'Unnamed: 18', 'Unnamed: 19', 'Unnamed: 20', 'Unnamed: 21', \n",
    "                   'Unnamed: 22', 'Unnamed: 23', 'Unnamed: 24', 'Unnamed: 25']\n",
    "df.drop(columns=columns_to_drop, inplace=True)"
   ]
  },
  {
   "cell_type": "code",
   "execution_count": null,
   "metadata": {},
   "outputs": [],
   "source": [
    "\n",
    "unwanted_ratings = [\"66 min\", \"74 min\", \"84 min\", \"NR\", \"UR\"]\n",
    "\n",
    "df = df[~df['rating'].isin(unwanted_ratings)]\n",
    "\n",
    "df.reset_index(drop=True, inplace=True)\n",
    "\n",
    "print(df['rating'].unique())"
   ]
  },
  {
   "cell_type": "code",
   "execution_count": null,
   "metadata": {},
   "outputs": [],
   "source": [
    "\n",
    "df['type'] = df['type'].str.strip().str.lower().str.title()\n",
    "df['listed_in'] = df['listed_in'].str.strip().str.title()\n",
    "df.dropna(inplace=True)"
   ]
  },
  {
   "cell_type": "markdown",
   "metadata": {},
   "source": [
    "3. Yearly Release Trend\n",
    "\n",
    "    Visualizing the number of titles released each year."
   ]
  },
  {
   "cell_type": "code",
   "execution_count": null,
   "metadata": {},
   "outputs": [],
   "source": [
    "\n",
    "release_year_data = df.groupby('release_year').size()\n",
    "plt.figure(figsize=(16, 8))\n",
    "plt.plot(release_year_data.index, release_year_data.values, marker='o')\n",
    "plt.title(\"Number of Releases by Year\")\n",
    "plt.xlabel(\"Year\")\n",
    "plt.ylabel(\"Number of Releases\")\n",
    "plt.grid(True)\n",
    "plt.show()"
   ]
  },
  {
   "cell_type": "markdown",
   "metadata": {},
   "source": [
    "4. Monthly Release Trend\n",
    "\n",
    "    Visualizing when titles are added to Netflix throughout the year."
   ]
  },
  {
   "cell_type": "code",
   "execution_count": null,
   "metadata": {},
   "outputs": [],
   "source": [
    "\n",
    "df['date_added'] = pd.to_datetime(df['date_added'], errors='coerce')\n",
    "df['month_added'] = df['date_added'].dt.month\n",
    "monthly_data = df.groupby('month_added').size()\n",
    "plt.figure(figsize=(16, 8))\n",
    "plt.bar(monthly_data.index, monthly_data.values, color=\"skyblue\")\n",
    "plt.title(\"Number of Releases by Month\")\n",
    "plt.xlabel(\"Month\")\n",
    "plt.ylabel(\"Number of Additions\")\n",
    "plt.xticks(range(1, 13), \n",
    "           ['Jan', 'Feb', 'Mar', 'Apr', 'May', 'Jun', 'Jul', 'Aug', 'Sep', 'Oct', 'Nov', 'Dec'])\n",
    "plt.show()"
   ]
  },
  {
   "cell_type": "markdown",
   "metadata": {},
   "source": [
    "5. Top Contributors\n",
    "\n",
    "    Top 10 Directors"
   ]
  },
  {
   "cell_type": "code",
   "execution_count": null,
   "metadata": {},
   "outputs": [],
   "source": [
    "\n",
    "directors_series = df['director'].str.split(',').explode().str.strip()\n",
    "top_directors = directors_series.value_counts().head(10)\n",
    "plt.figure(figsize=(16, 8))\n",
    "top_directors.plot(kind='bar', color='salmon')\n",
    "plt.title(\"Top 10 Directors by Number of Titles\")\n",
    "plt.xlabel(\"Director\")\n",
    "plt.ylabel(\"Number of Titles\")\n",
    "plt.xticks(rotation=45)\n",
    "plt.show()\n"
   ]
  },
  {
   "cell_type": "markdown",
   "metadata": {},
   "source": [
    "Top 10 Cast Members\n"
   ]
  },
  {
   "cell_type": "code",
   "execution_count": null,
   "metadata": {},
   "outputs": [],
   "source": [
    "\n",
    "cast_series = df['cast'].str.split(',').explode().str.strip()\n",
    "top_cast = cast_series.value_counts().head(10)\n",
    "plt.figure(figsize=(16, 8))\n",
    "top_cast.plot(kind='bar', color='blue')\n",
    "plt.title(\"Top 10 Cast Members by Number of Appearances\")\n",
    "plt.xlabel(\"Cast Member\")\n",
    "plt.ylabel(\"Number of Appearances\")\n",
    "plt.xticks(rotation=45)\n",
    "plt.show()"
   ]
  },
  {
   "cell_type": "markdown",
   "metadata": {},
   "source": [
    "6. Genre-Specific Analysis\n",
    "\n",
    "    Top Directors in Specific Genres"
   ]
  },
  {
   "cell_type": "code",
   "execution_count": null,
   "metadata": {},
   "outputs": [],
   "source": [
    "\n",
    "def plot_top_directors_by_genre(genre, color):\n",
    "    genre_filtered = df[df['listed_in'].str.contains(genre, na=False)]\n",
    "    directors_genre_series = genre_filtered['director'].str.split(',').explode().str.strip()\n",
    "    top_directors_genre = directors_genre_series.value_counts().head(10)\n",
    "    plt.figure(figsize=(16, 8))\n",
    "    top_directors_genre.plot(kind='bar', color=color)\n",
    "    plt.title(f\"Top 10 Directors in {genre} Genre by Number of Titles\")\n",
    "    plt.xlabel(\"Director\")\n",
    "    plt.ylabel(\"Number of Titles\")\n",
    "    plt.xticks(rotation=45)\n",
    "    plt.show()\n",
    "\n",
    "\n",
    "plot_top_directors_by_genre('Drama', 'lightgreen')\n",
    "plot_top_directors_by_genre('Documentaries', 'lightblue')"
   ]
  },
  {
   "cell_type": "markdown",
   "metadata": {},
   "source": [
    "7. Genre-Country Correlation\n",
    "\n",
    "    A heatmap to show the relationship between countries and genres."
   ]
  },
  {
   "cell_type": "code",
   "execution_count": null,
   "metadata": {},
   "outputs": [],
   "source": [
    "\n",
    "genre_columns = df['listed_in'].str.get_dummies(sep=', ')\n",
    "country_genre_data = pd.concat([df['country'], genre_columns], axis=1)\n",
    "country_genre_counts = country_genre_data.groupby('country').sum()\n",
    "correlation_matrix = country_genre_counts.corr()\n",
    "plt.figure(figsize=(20, 10))\n",
    "sns.heatmap(correlation_matrix)\n",
    "plt.title(\"Correlation between Genres and Countries\")\n",
    "plt.show()\n"
   ]
  },
  {
   "cell_type": "markdown",
   "metadata": {},
   "source": [
    "8. Ratings by Genre\n",
    "Analyzing the distribution of ratings across genres."
   ]
  },
  {
   "cell_type": "code",
   "execution_count": null,
   "metadata": {},
   "outputs": [],
   "source": [
    "\n",
    "ratings_by_genre = df.groupby(['listed_in', 'rating']).size().unstack(fill_value=0)\n",
    "plt.figure(figsize=(16, 8))\n",
    "sns.heatmap(ratings_by_genre)\n",
    "plt.title(\"Count of Ratings by Genre\")\n",
    "plt.xlabel(\"Rating\")\n",
    "plt.ylabel(\"Genre\")\n",
    "plt.show()"
   ]
  },
  {
   "cell_type": "markdown",
   "metadata": {},
   "source": [
    "9. Type Distribution:\n",
    "\n",
    "Pie chart or donut chart to show the distribution of movies vs. TV shows:\n",
    "\n"
   ]
  },
  {
   "cell_type": "code",
   "execution_count": null,
   "metadata": {},
   "outputs": [],
   "source": [
    "type_counts = df['type'].value_counts()\n",
    "plt.pie(type_counts, labels=type_counts.index, autopct='%1.1f%%', startangle=140)\n",
    "plt.title(\"Distribution of Content Type\")\n",
    "plt.show()\n"
   ]
  },
  {
   "cell_type": "markdown",
   "metadata": {},
   "source": [
    "10. Trend by Country:\n",
    "\n",
    "A stacked bar chart showing yearly releases broken down by top countries:"
   ]
  },
  {
   "cell_type": "code",
   "execution_count": null,
   "metadata": {},
   "outputs": [],
   "source": [
    "top_countries = df['country'].value_counts().head(5).index\n",
    "country_year_trends = df[df['country'].isin(top_countries)].groupby(['release_year', 'country']).size().unstack()\n",
    "country_year_trends.plot(kind='bar', stacked=True, figsize=(16, 8))\n",
    "plt.title(\"Yearly Releases by Top Countries\")\n",
    "plt.xlabel(\"Year\")\n",
    "plt.ylabel(\"Number of Releases\")\n",
    "plt.legend(title=\"Country\")\n",
    "plt.show()\n"
   ]
  },
  {
   "cell_type": "markdown",
   "metadata": {},
   "source": [
    "Summary\n",
    "\n",
    " This script provides insights into Netflix content trends, top contributors, and genre distributions. It utilizes pandas for data manipulation, matplotlib and seaborn for visualizations, and focuses on actionable trends like:\n",
    "\n",
    "\n",
    "Release patterns over the years and months.\n",
    "\n",
    "Top-performing directors and cast members.\n",
    "\n",
    "Genre popularity and correlations with countries.\n",
    "\n",
    "Ratings trends across genres.\n",
    "\n",
    "Feel free to fork this repository, contribute, or reach out for collaboration"
   ]
  },
  {
   "cell_type": "code",
   "execution_count": null,
   "metadata": {},
   "outputs": [],
   "source": []
  },
  {
   "cell_type": "code",
   "execution_count": null,
   "metadata": {},
   "outputs": [],
   "source": []
  }
 ],
 "metadata": {
  "kernelspec": {
   "display_name": "base",
   "language": "python",
   "name": "python3"
  },
  "language_info": {
   "codemirror_mode": {
    "name": "ipython",
    "version": 3
   },
   "file_extension": ".py",
   "mimetype": "text/x-python",
   "name": "python",
   "nbconvert_exporter": "python",
   "pygments_lexer": "ipython3",
   "version": "3.12.4"
  }
 },
 "nbformat": 4,
 "nbformat_minor": 2
}
